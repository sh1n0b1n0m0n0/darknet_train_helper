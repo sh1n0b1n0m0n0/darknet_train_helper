{
 "cells": [
  {
   "cell_type": "code",
   "execution_count": 2,
   "metadata": {},
   "outputs": [],
   "source": [
    "import cv2\n",
    "from pathlib import Path\n",
    "import pandas as pd\n",
    "import numpy as np\n",
    "import matplotlib.pyplot as plt\n",
    "from IPython.display import display, Image\n",
    "import ipywidgets as widgets\n",
    "from ipywidgets import AppLayout, Button, Layout, HTML"
   ]
  },
  {
   "cell_type": "code",
   "execution_count": 3,
   "metadata": {},
   "outputs": [
    {
     "name": "stdout",
     "output_type": "stream",
     "text": [
      "Enabling notebook extension jupyter-js-widgets/extension...\n",
      "      - Validating: \u001b[32mOK\u001b[0m\n"
     ]
    }
   ],
   "source": [
    "!jupyter nbextension enable --py widgetsnbextension"
   ]
  },
  {
   "cell_type": "code",
   "execution_count": 4,
   "metadata": {},
   "outputs": [],
   "source": [
    "train_txt = Path(\"/home/alexsh/darknet_experiments/data/default_prepared/train.txt\")\n",
    "\n",
    "with open(train_txt, \"r\") as f:\n",
    "    txt_guts = f.read().splitlines()\n",
    "\n",
    "new_txt_guts = [train_txt.parents[2] / i for i in txt_guts]\n",
    "annotations = [Path(img).with_suffix('.txt') for img in new_txt_guts]\n",
    "data_tuples = list(zip(new_txt_guts,annotations))\n",
    "\n",
    "df = pd.DataFrame(data_tuples, columns=[\"imgs\", \"annotations\"])"
   ]
  },
  {
   "cell_type": "code",
   "execution_count": 26,
   "metadata": {},
   "outputs": [],
   "source": [
    "def to_cv_coords(img, rect):\n",
    "    height, width, _ = img.shape\n",
    "    x = float(rect[1]) * width\n",
    "    y = float(rect[2]) * height\n",
    "    w = float(rect[3]) * width\n",
    "    h = float(rect[4]) * height\n",
    "    \n",
    "    x1, y1 = x-w/2, y-h/2\n",
    "    x2, y2 = x+w/2, y+h/2\n",
    "    \n",
    "    return int(x1), int(y1), int(x2), int(y2)\n",
    "\n",
    "\n",
    "def plot_img(img_path):\n",
    "    input_img = cv2.imread(str(img_path), cv2.IMREAD_COLOR)\n",
    "\n",
    "    txt_path = Path(img_path).with_suffix('.txt')\n",
    "\n",
    "    with open(str(txt_path), \"r\") as f:\n",
    "        lines = f.read().splitlines()\n",
    "\n",
    "    dn_coords = [line.split() for line in lines]\n",
    "\n",
    "    for i in range(len(dn_coords)):\n",
    "        x1, y1, x2, y2 = to_cv_coords(input_img, dn_coords[i])\n",
    "        cv2.rectangle(input_img, (x1, y1), (x2, y2), (0, 255, 0), 2)\n",
    "\n",
    "    success, encoded_image = cv2.imencode('.jpg', input_img)\n",
    "    \n",
    "    return encoded_image.tobytes()\n",
    "\n",
    "\n",
    "class Loop():\n",
    "    def __init__(self, values):\n",
    "        self._values = values\n",
    "        self._max_idx = len(values) - 1\n",
    "        self._current_idx = 0\n",
    "    \n",
    "    def next(self):\n",
    "        if self._current_idx == self._max_idx:\n",
    "            self._current_idx = 0\n",
    "        else:\n",
    "            self._current_idx += 1\n",
    "        return self._values[self._current_idx]\n",
    "    \n",
    "    def previous(self):\n",
    "        if self._current_idx == 0:\n",
    "            self._current_idx = self._max_idx\n",
    "        else:\n",
    "            self._current_idx -= 1\n",
    "        return self._values[self._current_idx]\n",
    "    \n",
    "    def __repr__(self):\n",
    "        return f\"Loop({self._values})\"\n",
    "\n",
    "\n",
    "def annotaions_viwer(df):\n",
    "    imgs = df[\"imgs\"]\n",
    "    anns = df[\"annotations\"]\n",
    "\n",
    "    images = Loop(imgs)\n",
    "\n",
    "    image_container = plot_img(str(imgs[0]))\n",
    "    image_widget = widgets.Image(value=image_container,\n",
    "                                format=\"jpg\",\n",
    "                                width=\"100%\",\n",
    "                                height=\"100%\"\n",
    "                                )\n",
    "\n",
    "    header = widgets.HTML(\"<h1><center><p><strong>Image Viewer</strong></p></center></h1>\", \n",
    "                          layout=Layout(height=\"auto\")\n",
    "                          )\n",
    "                          \n",
    "    footer = widgets.HTML(f\"{str(imgs[0])}\", layout=Layout(height=\"auto\"))\n",
    "\n",
    "    next_button = Button(description=\"Next\",\n",
    "                        icon=\"forward\",\n",
    "                        layout=Layout(width=\"80%\", height=\"30%\")\n",
    "                        )\n",
    "\n",
    "    prev_button = Button(description=\"Prev\", \n",
    "                        icon=\"backward\", \n",
    "                        layout=Layout(width=\"80%\", height=\"30%\")\n",
    "                        )\n",
    "\n",
    "    def update_image(filename: str):\n",
    "        image_widget.value = plot_img(str(filename))\n",
    "        \n",
    "        \n",
    "    def update_footer(filename: str):\n",
    "        footer.value = f\"{filename}\"\n",
    "\n",
    "        \n",
    "    def update_widgets(filename: str):\n",
    "        update_image(filename)\n",
    "        update_footer(filename)\n",
    "        \n",
    "        \n",
    "    def handle_next(b):\n",
    "        update_widgets(images.next())\n",
    "        \n",
    "        \n",
    "    def handle_prev(b):\n",
    "        update_widgets(images.previous())\n",
    "\n",
    "\n",
    "    prev_button.on_click(handle_next)\n",
    "    next_button.on_click(handle_prev) \n",
    "\n",
    "    app = AppLayout(header=header,\n",
    "            left_sidebar=prev_button,\n",
    "            center=image_widget,\n",
    "            right_sidebar=next_button,\n",
    "            footer=footer,\n",
    "            grid_gap='30px',\n",
    "            justify_items='center',\n",
    "            align_items='center')\n",
    "    \n",
    "    return app"
   ]
  },
  {
   "cell_type": "code",
   "execution_count": 27,
   "metadata": {},
   "outputs": [
    {
     "data": {
      "application/vnd.jupyter.widget-view+json": {
       "model_id": "1f8058a5c2db495582647c4e7bf67b0b",
       "version_major": 2,
       "version_minor": 0
      },
      "text/plain": [
       "AppLayout(children=(HTML(value='<h1><center><p><strong>Image Viewer</strong></p></center></h1>', layout=Layout…"
      ]
     },
     "metadata": {},
     "output_type": "display_data"
    }
   ],
   "source": [
    "annotaions_viwer(df)"
   ]
  }
 ],
 "metadata": {
  "kernelspec": {
   "display_name": "Python 3.6.9 ('venv': venv)",
   "language": "python",
   "name": "python3"
  },
  "language_info": {
   "codemirror_mode": {
    "name": "ipython",
    "version": 3
   },
   "file_extension": ".py",
   "mimetype": "text/x-python",
   "name": "python",
   "nbconvert_exporter": "python",
   "pygments_lexer": "ipython3",
   "version": "3.6.9"
  },
  "orig_nbformat": 4,
  "vscode": {
   "interpreter": {
    "hash": "3978785a72347351beec5d52c1f258cc5aeb166e588a2999f39bba36026e381a"
   }
  }
 },
 "nbformat": 4,
 "nbformat_minor": 2
}
